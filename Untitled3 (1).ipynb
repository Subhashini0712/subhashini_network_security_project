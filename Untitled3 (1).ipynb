{
  "nbformat": 4,
  "nbformat_minor": 0,
  "metadata": {
    "colab": {
      "name": "Untitled3.ipynb",
      "provenance": []
    },
    "kernelspec": {
      "name": "python3",
      "display_name": "Python 3"
    },
    "language_info": {
      "name": "python"
    }
  },
  "cells": [
    {
      "cell_type": "code",
      "metadata": {
        "colab": {
          "base_uri": "https://localhost:8080/"
        },
        "id": "tjzzKWhuRmhD",
        "outputId": "d6b2db5a-96d4-45be-a8b0-55708e21e28c"
      },
      "source": [
        "text = input(\"enter the string:  \")\n",
        "import hashlib\n",
        "m=hashlib.md5()\n",
        "m.update(text.encode(\"utf-8\"))\n",
        "print(m.hexdigest())"
      ],
      "execution_count": 1,
      "outputs": [
        {
          "output_type": "stream",
          "text": [
            "enter the string:  home\n",
            "106a6c241b8797f52e1e77317b96a201\n"
          ],
          "name": "stdout"
        }
      ]
    },
    {
      "cell_type": "code",
      "metadata": {
        "colab": {
          "base_uri": "https://localhost:8080/"
        },
        "id": "VWHLkoUSaO3f",
        "outputId": "94255251-9dbc-44ea-cb13-bac38682180d"
      },
      "source": [
        "text = input(\"enter the string \")\n",
        "import hashlib\n",
        "m=hashlib.sha3_512()\n",
        "m.update(text.encode())\n",
        "print(m.hexdigest())\n",
        "text = input(\"enter the string \")\n",
        "import hashlib\n",
        "m=hashlib.blake2b()\n",
        "m.update(text.encode())\n",
        "print(m.hexdigest())\n",
        "text = input(\"enter the string \")\n",
        "import hashlib\n",
        "m=hashlib.sha3_224()\n",
        "m.update(text.encode())\n",
        "print(m.hexdigest())\n",
        "text = input(\"enter the string \")\n",
        "import hashlib\n",
        "m=hashlib.md5()\n",
        "m.update(text.encode())\n",
        "print(m.hexdigest())"
      ],
      "execution_count": 2,
      "outputs": [
        {
          "output_type": "stream",
          "text": [
            "enter the string mine\n",
            "9667781fcdcb0fb87894fd75b5105b63a730ed9c9ece2b2aa1aefc07ecf4303d74c423bc3d574b297065d9f995352de639bf9883b9a38ddda591be4ef6e34542\n",
            "enter the string mine\n",
            "76092984b5ca265182dee8dfe4874d3bd6856ed9dd7a8719e2ad159bf242ecb0f74d72e5807ff8edc802a2f2824edefbd00bfd82a585771720bdf1feecf514df\n",
            "enter the string mine\n",
            "7d3c267ee3d222b332875be4b32ddf8579d1be174b1f962e5fbd0601\n",
            "enter the string mine\n",
            "918b81db5e91d031548b963c93845e5b\n"
          ],
          "name": "stdout"
        }
      ]
    },
    {
      "cell_type": "code",
      "metadata": {
        "id": "fk9wWX-HR8iJ"
      },
      "source": [
        ""
      ],
      "execution_count": null,
      "outputs": []
    }
  ]
}